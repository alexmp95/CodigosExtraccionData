{
 "cells": [
  {
   "cell_type": "code",
   "execution_count": 1,
   "id": "c0b53f45",
   "metadata": {},
   "outputs": [],
   "source": [
    "import pandas as pd\n",
    "import json"
   ]
  },
  {
   "cell_type": "code",
   "execution_count": 2,
   "id": "7dd0b6f3",
   "metadata": {},
   "outputs": [],
   "source": [
    "df= pd.read_excel('doc-topics-v2-doxc.xlsx')"
   ]
  },
  {
   "cell_type": "code",
   "execution_count": 3,
   "id": "924f106d",
   "metadata": {},
   "outputs": [],
   "source": [
    "df.to_csv('doc-topics-v2-doxc.csv')"
   ]
  },
  {
   "cell_type": "code",
   "execution_count": 4,
   "id": "6d93e15a",
   "metadata": {},
   "outputs": [],
   "source": [
    "df2= pd.read_excel('doc-topics-v2-pdf.xlsx')"
   ]
  },
  {
   "cell_type": "code",
   "execution_count": 5,
   "id": "d6cfdddf",
   "metadata": {},
   "outputs": [],
   "source": [
    "df2.to_csv('doc-topics-v2-pdf.csv')"
   ]
  },
  {
   "cell_type": "code",
   "execution_count": 6,
   "id": "1ce3e06d",
   "metadata": {},
   "outputs": [],
   "source": [
    "df3= pd.read_excel('doc-topics-v2-pptx.xlsx')"
   ]
  },
  {
   "cell_type": "code",
   "execution_count": 7,
   "id": "f75b72b3",
   "metadata": {},
   "outputs": [],
   "source": [
    "df3.to_csv('doc-topics-v2-pptx.csv')"
   ]
  },
  {
   "cell_type": "code",
   "execution_count": 8,
   "id": "6d21e2e2",
   "metadata": {},
   "outputs": [],
   "source": [
    "df4= pd.read_excel('doc-topics-v2-xlsx.xlsx')"
   ]
  },
  {
   "cell_type": "code",
   "execution_count": 9,
   "id": "06822560",
   "metadata": {},
   "outputs": [],
   "source": [
    "df4.to_csv('doc-topics-v2-xlsx.csv')"
   ]
  },
  {
   "cell_type": "code",
   "execution_count": 10,
   "id": "94873d00",
   "metadata": {},
   "outputs": [],
   "source": [
    "df5= pd.read_excel('doc-topics-v3-conpp.xlsx')"
   ]
  },
  {
   "cell_type": "code",
   "execution_count": 11,
   "id": "9c3226f8",
   "metadata": {},
   "outputs": [],
   "source": [
    "df5.to_csv('doc-topics-v3-conpp.csv')"
   ]
  },
  {
   "cell_type": "code",
   "execution_count": 12,
   "id": "36c3a7b8",
   "metadata": {},
   "outputs": [],
   "source": [
    "df6= pd.read_excel('doc-topics-v3-sinpp.xlsx')"
   ]
  },
  {
   "cell_type": "code",
   "execution_count": 13,
   "id": "afb7bbaf",
   "metadata": {},
   "outputs": [],
   "source": [
    "df6.to_csv('doc-topics-v3-sinpp.csv')"
   ]
  }
 ],
 "metadata": {
  "kernelspec": {
   "display_name": "Python 3 (ipykernel)",
   "language": "python",
   "name": "python3"
  },
  "language_info": {
   "codemirror_mode": {
    "name": "ipython",
    "version": 3
   },
   "file_extension": ".py",
   "mimetype": "text/x-python",
   "name": "python",
   "nbconvert_exporter": "python",
   "pygments_lexer": "ipython3",
   "version": "3.7.9"
  }
 },
 "nbformat": 4,
 "nbformat_minor": 5
}
